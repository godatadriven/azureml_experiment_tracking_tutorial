{
 "cells": [
  {
   "cell_type": "code",
   "execution_count": 85,
   "metadata": {},
   "outputs": [],
   "source": [
    "from azureml_scripts.create_dataset import main"
   ]
  },
  {
   "cell_type": "code",
   "execution_count": 56,
   "metadata": {},
   "outputs": [],
   "source": [
    "import docker"
   ]
  },
  {
   "attachments": {},
   "cell_type": "markdown",
   "metadata": {},
   "source": [
    "# Download model"
   ]
  },
  {
   "cell_type": "code",
   "execution_count": 75,
   "metadata": {},
   "outputs": [],
   "source": [
    "model_name = \"moon_model\"\n",
    "version = \"1\"\n",
    "%run azureml_scripts/download_model.py\\\n",
    "    --model \"moon_model:1\" --output \"models/\""
   ]
  },
  {
   "attachments": {},
   "cell_type": "markdown",
   "metadata": {},
   "source": [
    "# Build and Push Docker Image with fastapi"
   ]
  },
  {
   "cell_type": "code",
   "execution_count": 59,
   "metadata": {},
   "outputs": [],
   "source": [
    "client = docker.from_env()"
   ]
  },
  {
   "cell_type": "code",
   "execution_count": 60,
   "metadata": {},
   "outputs": [
    {
     "data": {
      "text/plain": [
       "(<Image: '0b8e74183b544b1c96cc2bc5d25f5fdb.azurecr.io/azureml_fastapi_example:latest'>,\n",
       " <itertools._tee at 0x121861bc0>)"
      ]
     },
     "execution_count": 60,
     "metadata": {},
     "output_type": "execute_result"
    }
   ],
   "source": [
    "client.images.build(\n",
    "    path=\"./\",\n",
    "    dockerfile=\"./fastapi.Dockerfile\",\n",
    "    tag=\"0b8e74183b544b1c96cc2bc5d25f5fdb.azurecr.io/azureml_fastapi_example:latest\",\n",
    ")"
   ]
  },
  {
   "attachments": {},
   "cell_type": "markdown",
   "metadata": {},
   "source": [
    "### Test your cloud image locally!"
   ]
  },
  {
   "cell_type": "code",
   "execution_count": 74,
   "metadata": {},
   "outputs": [
    {
     "name": "stdout",
     "output_type": "stream",
     "text": [
      "WARNING: The requested image's platform (linux/amd64) does not match the detected host platform (linux/arm64/v8) and no specific platform was requested\n"
     ]
    }
   ],
   "source": [
    "# CLI\n",
    "!docker run -p 8000:8000 -it --rm 0b8e74183b544b1c96cc2bc5d25f5fdb.azurecr.io/azureml_fastapi_example > log.out\n",
    "\n",
    "# Docker client\n",
    "# client.containers.run(\"0b8e74183b544b1c96cc2bc5d25f5fdb.azurecr.io/azureml_fastapi_example\", hostname='0.0.0.0:8000',)"
   ]
  },
  {
   "cell_type": "code",
   "execution_count": 77,
   "metadata": {},
   "outputs": [],
   "source": [
    "main()"
   ]
  },
  {
   "cell_type": "code",
   "execution_count": null,
   "metadata": {},
   "outputs": [],
   "source": []
  }
 ],
 "metadata": {
  "kernelspec": {
   "display_name": "azureml-tutorial",
   "language": "python",
   "name": "python3"
  },
  "language_info": {
   "codemirror_mode": {
    "name": "ipython",
    "version": 3
   },
   "file_extension": ".py",
   "mimetype": "text/x-python",
   "name": "python",
   "nbconvert_exporter": "python",
   "pygments_lexer": "ipython3",
   "version": "3.8.11"
  },
  "orig_nbformat": 4,
  "vscode": {
   "interpreter": {
    "hash": "818ca0a83798fbd16930477a9261d706c62cdb68e6752c3257a621e9b8fc2e79"
   }
  }
 },
 "nbformat": 4,
 "nbformat_minor": 2
}
