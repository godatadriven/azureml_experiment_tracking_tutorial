{
 "cells": [
  {
   "attachments": {},
   "cell_type": "markdown",
   "metadata": {},
   "source": [
    "In this notebook, we will make use of AzureML storage and compute resources for the training process."
   ]
  },
  {
   "cell_type": "code",
   "execution_count": null,
   "metadata": {},
   "outputs": [],
   "source": [
    "from pathlib import Path\n",
    "import pandas as pd\n",
    "import tempfile\n",
    "from joblib import dump\n",
    "\n",
    "from sklearn.datasets import make_moons\n",
    "from sklearn.model_selection import train_test_split\n",
    "from sklearn.ensemble import RandomForestClassifier\n",
    "from sklearn.model_selection import GridSearchCV\n",
    "from sklearn.metrics import accuracy_score\n",
    "\n",
    "import mlflow\n",
    "from azureml.core import Dataset, Workspace, Experiment, Environment, ScriptRunConfig\n",
    "from azureml.core.compute import ComputeTarget\n",
    "from azureml.core.compute_target import ComputeTargetException"
   ]
  },
  {
   "cell_type": "code",
   "execution_count": null,
   "metadata": {},
   "outputs": [],
   "source": [
    "from templates.experiment_tracking.train_baseline import create_decision_boundary_figure"
   ]
  },
  {
   "cell_type": "code",
   "execution_count": null,
   "metadata": {},
   "outputs": [],
   "source": [
    "DATA_DIR = Path(\"data/\")"
   ]
  },
  {
   "attachments": {},
   "cell_type": "markdown",
   "metadata": {},
   "source": [
    "Create a dataset in AzureML"
   ]
  },
  {
   "cell_type": "code",
   "execution_count": null,
   "metadata": {},
   "outputs": [],
   "source": [
    "# Read the data from the file\n",
    "df_train = pd.read_csv(DATA_DIR/'train.csv')\n",
    "df_test = pd.read_csv(DATA_DIR/'test.csv')"
   ]
  },
  {
   "cell_type": "code",
   "execution_count": null,
   "metadata": {},
   "outputs": [],
   "source": [
    "# Get workspace from config.\n",
    "workspace = Workspace.from_config()\n",
    "datastore = workspace.get_default_datastore()"
   ]
  },
  {
   "cell_type": "code",
   "execution_count": null,
   "metadata": {},
   "outputs": [],
   "source": [
    "workspace.datasets"
   ]
  },
  {
   "cell_type": "code",
   "execution_count": null,
   "metadata": {},
   "outputs": [],
   "source": [
    "dataset_name = \"moon-model\""
   ]
  },
  {
   "cell_type": "code",
   "execution_count": null,
   "metadata": {},
   "outputs": [],
   "source": [
    "with tempfile.TemporaryDirectory() as tmp_dir:\n",
    "    # We can only upload from disk, so we save it to a temporary directory.\n",
    "    df_train.to_csv(f\"{tmp_dir}/train.csv\", index=False)\n",
    "    df_test.to_csv(f\"{tmp_dir}/test.csv\", index=False)\n",
    "\n",
    "    # Upload the datasets to the default datastore (blobstore container)\n",
    "    # In this container it puts it inside the \"datasets/moons\" folder\n",
    "    blob_store_path = \"datasets/moons\"\n",
    "    Dataset.File.upload_directory(tmp_dir, (datastore, blob_store_path))\n",
    "\n",
    "    dataset = Dataset.File.from_files(path=[(datastore, blob_store_path)])\n",
    "    dataset.register(workspace, dataset_name)"
   ]
  },
  {
   "cell_type": "code",
   "execution_count": null,
   "metadata": {},
   "outputs": [],
   "source": [
    "dataset = Dataset.get_by_name(workspace=workspace, name=dataset_name)\n",
    "dataset.download(DATA_DIR)"
   ]
  },
  {
   "cell_type": "code",
   "execution_count": null,
   "metadata": {},
   "outputs": [],
   "source": [
    "azure_ws_mlflow_tracking_uri = workspace.get_mlflow_tracking_uri()\n",
    "mlflow.set_tracking_uri(azure_ws_mlflow_tracking_uri)\n",
    "mlflow.get_tracking_uri()"
   ]
  },
  {
   "cell_type": "code",
   "execution_count": null,
   "metadata": {},
   "outputs": [],
   "source": [
    "experiment_name = \"dev-train\""
   ]
  },
  {
   "cell_type": "code",
   "execution_count": null,
   "metadata": {},
   "outputs": [],
   "source": [
    "# We will use the same Experiment space that we used earlier.\n",
    "experiment = Experiment(workspace, experiment_name)\n",
    "mlflow.set_experiment(experiment_name)"
   ]
  },
  {
   "attachments": {},
   "cell_type": "markdown",
   "metadata": {},
   "source": [
    "Using compute engine for training the model. \n",
    "\n",
    "For this, we need:\n",
    "- An AzureML compute intance (has already been created for you).\n",
    "- A custom python environment for your compute instance.\n",
    "- Scripts containing the training process."
   ]
  },
  {
   "cell_type": "code",
   "execution_count": null,
   "metadata": {},
   "outputs": [],
   "source": [
    "compute_name = \"azureml-mlflow-dev\""
   ]
  },
  {
   "cell_type": "code",
   "execution_count": null,
   "metadata": {},
   "outputs": [],
   "source": [
    "# Get your compute machine\n",
    "ComputeTarget(workspace=workspace, name=compute_name)"
   ]
  },
  {
   "cell_type": "code",
   "execution_count": null,
   "metadata": {},
   "outputs": [],
   "source": [
    "requirements_path = \"../../requirements.txt\"\n",
    "environment_name = \"dev-environment\""
   ]
  },
  {
   "cell_type": "code",
   "execution_count": null,
   "metadata": {},
   "outputs": [],
   "source": [
    "# Create a new custom environment\n",
    "env = Environment.from_pip_requirements(\n",
    "        name=environment_name,\n",
    "        file_path=str(requirements_path),\n",
    ")\n",
    "# Python version must be added in this unclear way\n",
    "env.python.conda_dependencies.set_python_version(\"3.8\")\n"
   ]
  },
  {
   "attachments": {},
   "cell_type": "markdown",
   "metadata": {},
   "source": [
    "We need to run three scripts:\n",
    "1. Download the dataset to our compute instace.\n",
    "2. Run the training with MLflow.\n",
    "3. Register the model to AzureML models."
   ]
  },
  {
   "attachments": {},
   "cell_type": "markdown",
   "metadata": {},
   "source": [
    "First, we will create a script to download the dataset."
   ]
  },
  {
   "cell_type": "code",
   "execution_count": null,
   "metadata": {},
   "outputs": [],
   "source": [
    "%%writefile download_dataset.py\n",
    "from argparse import ArgumentParser\n",
    "from azureml.core import Workspace, Dataset\n",
    "parser = ArgumentParser()\n",
    "parser.add_argument(\n",
    "    '--dataset_name', \n",
    "    type=str, \n",
    "    default='moon_dataset', \n",
    "    help='The name of the dataset to download. The dataset must be registered in AzureML.')\n",
    "parser.add_argument(\n",
    "    '--output_folder', \n",
    "    type=str, \n",
    "    default='data', \n",
    "    help='The folder to save the dataset to.')\n",
    "args = parser.parse_args()\n",
    "\n",
    "workspace = Workspace.from_config()\n",
    "\n",
    "dataset = Dataset.get_by_name(workspace, args.dataset_name)\n",
    "dataset.download(args.output_folder, overwrite=True)"
   ]
  },
  {
   "attachments": {},
   "cell_type": "markdown",
   "metadata": {},
   "source": [
    "Now, we will create a script for training the model with mlflow"
   ]
  },
  {
   "cell_type": "code",
   "execution_count": null,
   "metadata": {},
   "outputs": [],
   "source": [
    "%%writefile train_with_mlflow.py\n",
    "import tempfile\n",
    "from argparse import ArgumentParser\n",
    "from typing import Any\n",
    "from datetime import datetime\n",
    "\n",
    "import mlflow\n",
    "import pandas as pd\n",
    "from joblib import dump\n",
    "from azureml.core import Workspace\n",
    "from sklearn.ensemble import RandomForestClassifier\n",
    "from sklearn.metrics import accuracy_score\n",
    "from sklearn.model_selection import GridSearchCV\n",
    "\n",
    "parser = ArgumentParser()\n",
    "parser.add_argument(\"--train_dataset\", type=str, default=\"data/train.csv\")\n",
    "parser.add_argument(\"--test_dataset\", type=str, default=\"data/test.csv\")\n",
    "parser.add_argument(\"--n_cross_vals\", type=int, default=5)\n",
    "parser.add_argument(\"--max_depth\", default=[2, 5, 10, None])\n",
    "parser.add_argument(\"--n_estimators\", default=[10, 25, 100])\n",
    "parser.add_argument(\"--criterion\", default=[\"gini\", \"entropy\"])\n",
    "\n",
    "args = parser.parse_args()\n",
    "# This can be used to log all metrics and artifacts that are generated by the model.\n",
    "# mlflow.autolog(log_models=True)\n",
    "workspace = Workspace.from_config()\n",
    "\n",
    "df_train = pd.read_csv(args.train_dataset)\n",
    "df_test = pd.read_csv(args.test_dataset)\n",
    "\n",
    "# We define the hyperparameters we want to tune\n",
    "param_grid = {\n",
    "    \"n_estimators\": args.n_estimators,\n",
    "    \"criterion\": args.criterion,\n",
    "    \"max_depth\": args.max_depth,\n",
    "}\n",
    "# We log the selected hyper-parameters to azureml using mlflow\n",
    "# You can find the best hyper-parameters in the azureml UI under parameters.\n",
    "\n",
    "mlflow.set_tracking_uri(workspace.get_mlflow_tracking_uri())\n",
    "\n",
    "with mlflow.start_run(\n",
    "    run_name=f\"Moon_training-{datetime.now().strftime('%m/%d/%Y,%H:%M:%S')}\"\n",
    ") as run:\n",
    "    run_id = run.info.run_id\n",
    "    for param, value in param_grid.items():\n",
    "        mlflow.log_param(f\"gridsearch/{param}\", str(value))\n",
    "\n",
    "    model = RandomForestClassifier()\n",
    "    grid_search = GridSearchCV(model, param_grid, cv=args.n_cross_vals, n_jobs=-1)\n",
    "\n",
    "    # We train the model\n",
    "    grid_search.fit(df_train[[\"x1\", \"x2\"]], df_train[\"y\"])\n",
    "    model = grid_search.best_estimator_\n",
    "\n",
    "    # Here we evaluate the model\n",
    "    predictions = model.predict(df_test[[\"x1\", \"x2\"]])\n",
    "    test_accuracy = accuracy_score(df_test[\"y\"], predictions)\n",
    "\n",
    "    # We log the accuracy to azureml using mlflow\n",
    "    # You can see the logged metrics in the azureml UI under the \"Metrics\" tab\n",
    "    mlflow.log_metric(\"test_accuracy\", test_accuracy)\n",
    "\n",
    "    # We log the selected hyper-parameters to azureml using mlflow\n",
    "    # You can find the best hyper-parameters in the azureml UI under parameters.\n",
    "    for k, v in grid_search.best_params_.items():\n",
    "        mlflow.log_param(f\"selected/{k}\", v)\n",
    "    \n",
    "    # Export the model and log it to azureml using mlflow\n",
    "    with tempfile.TemporaryDirectory() as tmp_dir:\n",
    "        dump(model, f\"{tmp_dir}/model.joblib\")\n",
    "        mlflow.log_artifact(f\"{tmp_dir}/model.joblib\")\n"
   ]
  },
  {
   "attachments": {},
   "cell_type": "markdown",
   "metadata": {},
   "source": [
    "Finally, we will create a script to register the model."
   ]
  },
  {
   "cell_type": "code",
   "execution_count": null,
   "metadata": {},
   "outputs": [],
   "source": [
    "%%writefile register_model.py\n",
    "from argparse import ArgumentParser\n",
    "import mlflow\n",
    "from azureml.core import Workspace, Run\n",
    "\n",
    "parser = ArgumentParser()\n",
    "parser.add_argument(\n",
    "    \"--model_name\", \n",
    "    type=str, \n",
    "    required=True, \n",
    "    help=\"Name of the model to register.\")\n",
    "parser.add_argument(\n",
    "    \"--run_id\",\n",
    "    type=str,\n",
    "    default=None,\n",
    "    required=False,\n",
    "    help=(\n",
    "        \"ID AzureML has given the run.\"\n",
    "        \"You can find in the UI under raw json properties. \"\n",
    "        \"If not provided, it will try to get it from the mlflow context.\"\n",
    "    ),\n",
    ")\n",
    "\n",
    "args = parser.parse_args()\n",
    "\n",
    "model_name = args.model_name\n",
    "if args.run_id is not None:\n",
    "    run_id =  args.run_id\n",
    "run_id = Run.get_context(allow_offline=False)\n",
    "run_id = run_id.id\n",
    "\n",
    "ws = Workspace.from_config()\n",
    "# Set the tracking URI to the AzureML workspace\n",
    "mlflow.set_tracking_uri(ws.get_mlflow_tracking_uri())\n",
    "\n",
    "# the artifact path is the path where the model artifact is stored within the run.\n",
    "artifact_path = \"model.joblib\"\n",
    "model_uri = f\"runs:/{run_id}/{artifact_path}\"\n",
    "mlflow.register_model(model_uri=model_uri, name=model_name)\n"
   ]
  },
  {
   "attachments": {},
   "cell_type": "markdown",
   "metadata": {},
   "source": [
    "Note that in all the three scripts, we are creating Workspace object from config. We need to keep the config file along the scripts, so that the scripts can use it for authenticating the Workspace. We can do this by: "
   ]
  },
  {
   "cell_type": "code",
   "execution_count": null,
   "metadata": {},
   "outputs": [],
   "source": [
    "workspace.write_config(file_name='./config.json')"
   ]
  },
  {
   "attachments": {},
   "cell_type": "markdown",
   "metadata": {},
   "source": [
    "Now that we have the scripts, we can start running the script on out compute instance."
   ]
  },
  {
   "cell_type": "code",
   "execution_count": null,
   "metadata": {},
   "outputs": [],
   "source": [
    "source_directory = \"./\""
   ]
  },
  {
   "cell_type": "code",
   "execution_count": null,
   "metadata": {},
   "outputs": [],
   "source": [
    "commands = [\n",
    "    \"python download_dataset.py --dataset_name moon_dataset --output_folder data\",\n",
    "    \"python train_with_mlflow.py --train_dataset data/train.csv --test_dataset data/test.csv\",\n",
    "    \"python register_model.py --model_name moon_model\",\n",
    "]"
   ]
  },
  {
   "cell_type": "code",
   "execution_count": null,
   "metadata": {},
   "outputs": [],
   "source": [
    "# Here we combine all the configuration\n",
    "script_run_config = ScriptRunConfig(\n",
    "    source_directory=str(source_directory),\n",
    "    command=\" && \".join(commands),\n",
    "    compute_target=compute_name,\n",
    "    environment=env,\n",
    ")"
   ]
  },
  {
   "cell_type": "code",
   "execution_count": null,
   "metadata": {},
   "outputs": [],
   "source": [
    "# Here we submit the configuration as an experiment job to AzureML.\n",
    "experiment.submit(script_run_config)\n",
    "print(\"You follow the experiment here:\")\n",
    "print(experiment.get_portal_url())"
   ]
  },
  {
   "cell_type": "code",
   "execution_count": null,
   "metadata": {},
   "outputs": [],
   "source": []
  }
 ],
 "metadata": {
  "kernelspec": {
   "display_name": "code-ont",
   "language": "python",
   "name": "python3"
  },
  "language_info": {
   "codemirror_mode": {
    "name": "ipython",
    "version": 3
   },
   "file_extension": ".py",
   "mimetype": "text/x-python",
   "name": "python",
   "nbconvert_exporter": "python",
   "pygments_lexer": "ipython3",
   "version": "3.8.16"
  },
  "orig_nbformat": 4,
  "vscode": {
   "interpreter": {
    "hash": "3c54ad65707ef7d43a84ed93777f96f49399a61e6aa29f567d32d6a9c442faf8"
   }
  }
 },
 "nbformat": 4,
 "nbformat_minor": 2
}
