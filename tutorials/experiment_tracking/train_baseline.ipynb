{
 "cells": [
  {
   "cell_type": "markdown",
   "metadata": {},
   "source": [
    "- In this notebook, we will use sklearn's make_moon sample dataset and train a RandomForest model using GridSearchCV.\n",
    "- The training is done within the current Jupyter environment."
   ]
  },
  {
   "cell_type": "code",
   "execution_count": 1,
   "metadata": {},
   "outputs": [],
   "source": [
    "import os\n",
    "import pandas as pd\n",
    "from pathlib import Path\n",
    "\n",
    "from sklearn.datasets import make_moons\n",
    "from sklearn.model_selection import train_test_split\n",
    "from sklearn.ensemble import RandomForestClassifier\n",
    "from sklearn.model_selection import GridSearchCV\n",
    "\n",
    "from sklearn.metrics import accuracy_score"
   ]
  },
  {
   "cell_type": "code",
   "execution_count": 2,
   "metadata": {},
   "outputs": [],
   "source": [
    "%matplotlib inline"
   ]
  },
  {
   "cell_type": "code",
   "execution_count": 3,
   "metadata": {},
   "outputs": [],
   "source": [
    "import sys"
   ]
  },
  {
   "cell_type": "markdown",
   "metadata": {},
   "source": [
    "Create sample dataset"
   ]
  },
  {
   "cell_type": "code",
   "execution_count": 4,
   "metadata": {},
   "outputs": [],
   "source": [
    "def create_dataset(data_dir):\n",
    "    \"\"\"Generate data from make_moons and save it to a folder.\n",
    "    \"\"\"\n",
    "    X, y = make_moons(n_samples=1000, shuffle=True, noise=0.2, random_state=42)\n",
    "    df = pd.DataFrame({\"x1\": X[:, 0], \"x2\": X[:, 1], \"y\": y})\n",
    "    df_train, df_test = train_test_split(df, test_size=0.2, random_state=42)\n",
    "\n",
    "    df_train.to_csv(data_dir/\"train.csv\", index=False)\n",
    "    df_test.to_csv(data_dir/\"test.csv\", index=False)"
   ]
  },
  {
   "cell_type": "code",
   "execution_count": 5,
   "metadata": {},
   "outputs": [],
   "source": [
    "# Create directory for saving the data\n",
    "DATA_DIR = Path(\"data/\")\n",
    "DATA_DIR.mkdir(parents=True, exist_ok=True)\n",
    "\n",
    "# Create the dataset\n",
    "create_dataset(DATA_DIR)"
   ]
  },
  {
   "cell_type": "code",
   "execution_count": 6,
   "metadata": {},
   "outputs": [],
   "source": [
    "# Read the data from the file\n",
    "df_train = pd.read_csv(DATA_DIR/'train.csv')\n",
    "df_test = pd.read_csv(DATA_DIR/'test.csv')"
   ]
  },
  {
   "cell_type": "markdown",
   "metadata": {},
   "source": [
    "Model hyperparameters"
   ]
  },
  {
   "cell_type": "code",
   "execution_count": 7,
   "metadata": {},
   "outputs": [
    {
     "name": "stdout",
     "output_type": "stream",
     "text": [
      "Hyper-parameters:\n",
      "gridsearch-n_estimators [10, 25, 100]\n",
      "gridsearch-criterion ['gini', 'entropy']\n",
      "gridsearch-max_depth [2, 5, 10, None]\n"
     ]
    }
   ],
   "source": [
    "# We define the hyperparameters we want to tune\n",
    "param_grid = {\n",
    "    \"n_estimators\": [10, 25, 100],\n",
    "    \"criterion\": [\"gini\", \"entropy\"],\n",
    "    \"max_depth\": [2, 5, 10, None],\n",
    "}\n",
    "n_cross_vals = 5\n",
    "print(\"Hyper-parameters:\")\n",
    "for param, value in param_grid.items():\n",
    "    print(f\"gridsearch-{param}\", str(value))"
   ]
  },
  {
   "cell_type": "markdown",
   "metadata": {},
   "source": [
    "Model training"
   ]
  },
  {
   "cell_type": "code",
   "execution_count": 8,
   "metadata": {},
   "outputs": [],
   "source": [
    "# We will use RandomForest with GridSearchCV.\n",
    "model = RandomForestClassifier()\n",
    "grid_search = GridSearchCV(model, param_grid, cv=n_cross_vals, n_jobs=-1)\n",
    "\n",
    "# We train the model\n",
    "grid_search.fit(df_train[[\"x1\", \"x2\"]], df_train[\"y\"])\n",
    "model = grid_search.best_estimator_"
   ]
  },
  {
   "cell_type": "code",
   "execution_count": 9,
   "metadata": {},
   "outputs": [],
   "source": [
    "# Here we evaluate the model\n",
    "predictions = model.predict(df_test[[\"x1\", \"x2\"]])\n",
    "test_accuracy = accuracy_score(df_test[\"y\"], predictions)"
   ]
  },
  {
   "cell_type": "code",
   "execution_count": 10,
   "metadata": {},
   "outputs": [
    {
     "name": "stdout",
     "output_type": "stream",
     "text": [
      "Selected hyper-parameters:\n",
      "selected-criterion: gini\n",
      "selected-max_depth: 10\n",
      "selected-n_estimators: 100\n",
      "\n",
      "\n",
      "Metrics:\n",
      "accuracy 0.97\n"
     ]
    }
   ],
   "source": [
    "# We log the selected hyper-parameters to locally\n",
    "print(\"Selected hyper-parameters:\")\n",
    "for k, v in grid_search.best_params_.items():\n",
    "    print(f\"selected-{k}:\", v)\n",
    "print('\\n')\n",
    "# We log the accuracy to locally\n",
    "print(\"Metrics:\")\n",
    "print(\"accuracy\", test_accuracy)\n"
   ]
  },
  {
   "cell_type": "code",
   "execution_count": null,
   "metadata": {},
   "outputs": [],
   "source": []
  }
 ],
 "metadata": {
  "kernelspec": {
   "display_name": "newenv",
   "language": "python",
   "name": "newenv"
  },
  "language_info": {
   "codemirror_mode": {
    "name": "ipython",
    "version": 3
   },
   "file_extension": ".py",
   "mimetype": "text/x-python",
   "name": "python",
   "nbconvert_exporter": "python",
   "pygments_lexer": "ipython3",
   "version": "3.8.10"
  },
  "vscode": {
   "interpreter": {
    "hash": "3c54ad65707ef7d43a84ed93777f96f49399a61e6aa29f567d32d6a9c442faf8"
   }
  }
 },
 "nbformat": 4,
 "nbformat_minor": 4
}
