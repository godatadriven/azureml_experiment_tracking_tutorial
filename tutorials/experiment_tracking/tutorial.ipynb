{
 "cells": [
  {
   "attachments": {},
   "cell_type": "markdown",
   "metadata": {},
   "source": [
    "### STEPS:\n",
    "\n",
    "1. Accept the invite and setup your acount.\n",
    "2. Go to ml.azure.com\n",
    "3. Select 'azureml-code-breakfast' workspace. \n",
    "4. Navigate to Compute section and open JupyterLab.\n",
    "3. Open Terminal in JupyterLab.\n",
    "4. Navigate to your folder e.g. \"cd Users/<YOUR_USER_NAME>\"\n",
    "5. Clone the git repository:\n",
    "```bash\n",
    "git clone https://github.com/godatadriven/azureml_experiment_tracking_tutorial.git\n",
    "```\n",
    "\n",
    "6. Navigate to project home folder.\n",
    "7. Install new environment and register the kernal\n",
    "```bash\n",
    "conda create -n <YOUR_ENV_NAME> python=3.8\n",
    "conda activate <YOUR_ENV_NAME>\n",
    "pip install poetry\n",
    "poetry install\n",
    "python -m ipykernel install --user --name <YOUR_ENV_NAME> --display-name \"YOUR_ENV_NAME\"\n",
    "```\n",
    "\n",
    "8. Check whether your kernel exists or not\n",
    "```bash\n",
    "jupyter kernelspec list\n",
    "```\n",
    "You should see your <YOUR_ENV_NAME> here.\n",
    "\n",
    "9. "
   ]
  },
  {
   "cell_type": "code",
   "execution_count": 2,
   "metadata": {},
   "outputs": [],
   "source": [
    "from azure.identity import DefaultAzureCredential\n",
    "from azure.keyvault.secrets import SecretClient"
   ]
  },
  {
   "cell_type": "code",
   "execution_count": 12,
   "metadata": {},
   "outputs": [
    {
     "name": "stdout",
     "output_type": "stream",
     "text": [
      "Creating a secret in KV_NAME called 'subsid' with the value '8e155238-93f7-4377-9b62-6a2f4e51052e' ...\n",
      " done.\n",
      "Retrieving your secret from KV_NAME.\n",
      "Your secret is '8e155238-93f7-4377-9b62-6a2f4e51052e'.\n",
      "Deleting your secret from KV_NAME ...\n",
      " done.\n"
     ]
    }
   ],
   "source": [
    "keyVaultName = \"KV_NAME\"\n",
    "KVUri = f\"https://azuremlmlflow4918829051.vault.azure.net\"\n",
    "\n",
    "credential = DefaultAzureCredential()\n",
    "client = SecretClient(vault_url=KVUri, credential=credential)\n",
    "\n",
    "secretName = \"subsid\"\n",
    "secretValue = \"8e155238-93f7-4377-9b62-6a2f4e51052e\"\n",
    "\n",
    "print(f\"Creating a secret in KV_NAME called '{secretName}' with the value '{secretValue}' ...\")\n",
    "\n",
    "client.set_secret(secretName, secretValue)\n",
    "\n",
    "print(\" done.\")\n",
    "\n",
    "print(f\"Retrieving your secret from KV_NAME.\")\n",
    "\n",
    "retrieved_secret = client.get_secret(secretName)\n",
    "\n",
    "print(f\"Your secret is '{retrieved_secret.value}'.\")\n",
    "print(f\"Deleting your secret from KV_NAME ...\")\n",
    "\n",
    "poller = client.begin_delete_secret(secretName)\n",
    "deleted_secret = poller.result()\n",
    "\n",
    "print(\" done.\")\n"
   ]
  },
  {
   "cell_type": "code",
   "execution_count": null,
   "metadata": {},
   "outputs": [],
   "source": [
    "secret_client.set_secret()"
   ]
  },
  {
   "cell_type": "code",
   "execution_count": 10,
   "metadata": {},
   "outputs": [
    {
     "ename": "HttpResponseError",
     "evalue": "(BadParameter) The request URI contains an invalid name: subscription_id\nCode: BadParameter\nMessage: The request URI contains an invalid name: subscription_id",
     "output_type": "error",
     "traceback": [
      "\u001b[0;31m---------------------------------------------------------------------------\u001b[0m",
      "\u001b[0;31mHttpResponseError\u001b[0m                         Traceback (most recent call last)",
      "Cell \u001b[0;32mIn[10], line 1\u001b[0m\n\u001b[0;32m----> 1\u001b[0m secret_client\u001b[39m.\u001b[39;49mset_secret(\n\u001b[1;32m      2\u001b[0m     name\u001b[39m=\u001b[39;49m\u001b[39m'\u001b[39;49m\u001b[39msubscription_id\u001b[39;49m\u001b[39m'\u001b[39;49m,\n\u001b[1;32m      3\u001b[0m     value\u001b[39m=\u001b[39;49m\u001b[39m'\u001b[39;49m\u001b[39m8e155238-93f7-4377-9b62-6a2f4e51052e\u001b[39;49m\u001b[39m'\u001b[39;49m)\n",
      "File \u001b[0;32m/opt/homebrew/anaconda3/envs/code-ont/lib/python3.8/site-packages/azure/core/tracing/decorator.py:78\u001b[0m, in \u001b[0;36mdistributed_trace.<locals>.decorator.<locals>.wrapper_use_tracer\u001b[0;34m(*args, **kwargs)\u001b[0m\n\u001b[1;32m     76\u001b[0m span_impl_type \u001b[39m=\u001b[39m settings\u001b[39m.\u001b[39mtracing_implementation()\n\u001b[1;32m     77\u001b[0m \u001b[39mif\u001b[39;00m span_impl_type \u001b[39mis\u001b[39;00m \u001b[39mNone\u001b[39;00m:\n\u001b[0;32m---> 78\u001b[0m     \u001b[39mreturn\u001b[39;00m func(\u001b[39m*\u001b[39;49margs, \u001b[39m*\u001b[39;49m\u001b[39m*\u001b[39;49mkwargs)\n\u001b[1;32m     80\u001b[0m \u001b[39m# Merge span is parameter is set, but only if no explicit parent are passed\u001b[39;00m\n\u001b[1;32m     81\u001b[0m \u001b[39mif\u001b[39;00m merge_span \u001b[39mand\u001b[39;00m \u001b[39mnot\u001b[39;00m passed_in_parent:\n",
      "File \u001b[0;32m/opt/homebrew/anaconda3/envs/code-ont/lib/python3.8/site-packages/azure/keyvault/secrets/_client.py:126\u001b[0m, in \u001b[0;36mSecretClient.set_secret\u001b[0;34m(self, name, value, **kwargs)\u001b[0m\n\u001b[1;32m    117\u001b[0m     attributes \u001b[39m=\u001b[39m \u001b[39mNone\u001b[39;00m\n\u001b[1;32m    119\u001b[0m parameters \u001b[39m=\u001b[39m \u001b[39mself\u001b[39m\u001b[39m.\u001b[39m_models\u001b[39m.\u001b[39mSecretSetParameters(\n\u001b[1;32m    120\u001b[0m     value\u001b[39m=\u001b[39mvalue,\n\u001b[1;32m    121\u001b[0m     tags\u001b[39m=\u001b[39mkwargs\u001b[39m.\u001b[39mpop(\u001b[39m\"\u001b[39m\u001b[39mtags\u001b[39m\u001b[39m\"\u001b[39m, \u001b[39mNone\u001b[39;00m),\n\u001b[1;32m    122\u001b[0m     content_type\u001b[39m=\u001b[39mcontent_type,\n\u001b[1;32m    123\u001b[0m     secret_attributes\u001b[39m=\u001b[39mattributes\n\u001b[1;32m    124\u001b[0m )\n\u001b[0;32m--> 126\u001b[0m bundle \u001b[39m=\u001b[39m \u001b[39mself\u001b[39;49m\u001b[39m.\u001b[39;49m_client\u001b[39m.\u001b[39;49mset_secret(\n\u001b[1;32m    127\u001b[0m     vault_base_url\u001b[39m=\u001b[39;49m\u001b[39mself\u001b[39;49m\u001b[39m.\u001b[39;49mvault_url,\n\u001b[1;32m    128\u001b[0m     secret_name\u001b[39m=\u001b[39;49mname,\n\u001b[1;32m    129\u001b[0m     parameters\u001b[39m=\u001b[39;49mparameters,\n\u001b[1;32m    130\u001b[0m     error_map\u001b[39m=\u001b[39;49m_error_map,\n\u001b[1;32m    131\u001b[0m     \u001b[39m*\u001b[39;49m\u001b[39m*\u001b[39;49mkwargs\n\u001b[1;32m    132\u001b[0m )\n\u001b[1;32m    133\u001b[0m \u001b[39mreturn\u001b[39;00m KeyVaultSecret\u001b[39m.\u001b[39m_from_secret_bundle(bundle)\n",
      "File \u001b[0;32m/opt/homebrew/anaconda3/envs/code-ont/lib/python3.8/site-packages/azure/keyvault/secrets/_generated/_operations_mixin.py:2550\u001b[0m, in \u001b[0;36mKeyVaultClientOperationsMixin.set_secret\u001b[0;34m(self, vault_base_url, secret_name, parameters, **kwargs)\u001b[0m\n\u001b[1;32m   2548\u001b[0m mixin_instance\u001b[39m.\u001b[39m_serialize\u001b[39m.\u001b[39mclient_side_validation \u001b[39m=\u001b[39m \u001b[39mFalse\u001b[39;00m\n\u001b[1;32m   2549\u001b[0m mixin_instance\u001b[39m.\u001b[39m_deserialize \u001b[39m=\u001b[39m Deserializer(\u001b[39mself\u001b[39m\u001b[39m.\u001b[39m_models_dict(api_version))\n\u001b[0;32m-> 2550\u001b[0m \u001b[39mreturn\u001b[39;00m mixin_instance\u001b[39m.\u001b[39;49mset_secret(vault_base_url, secret_name, parameters, \u001b[39m*\u001b[39;49m\u001b[39m*\u001b[39;49mkwargs)\n",
      "File \u001b[0;32m/opt/homebrew/anaconda3/envs/code-ont/lib/python3.8/site-packages/azure/core/tracing/decorator.py:78\u001b[0m, in \u001b[0;36mdistributed_trace.<locals>.decorator.<locals>.wrapper_use_tracer\u001b[0;34m(*args, **kwargs)\u001b[0m\n\u001b[1;32m     76\u001b[0m span_impl_type \u001b[39m=\u001b[39m settings\u001b[39m.\u001b[39mtracing_implementation()\n\u001b[1;32m     77\u001b[0m \u001b[39mif\u001b[39;00m span_impl_type \u001b[39mis\u001b[39;00m \u001b[39mNone\u001b[39;00m:\n\u001b[0;32m---> 78\u001b[0m     \u001b[39mreturn\u001b[39;00m func(\u001b[39m*\u001b[39;49margs, \u001b[39m*\u001b[39;49m\u001b[39m*\u001b[39;49mkwargs)\n\u001b[1;32m     80\u001b[0m \u001b[39m# Merge span is parameter is set, but only if no explicit parent are passed\u001b[39;00m\n\u001b[1;32m     81\u001b[0m \u001b[39mif\u001b[39;00m merge_span \u001b[39mand\u001b[39;00m \u001b[39mnot\u001b[39;00m passed_in_parent:\n",
      "File \u001b[0;32m/opt/homebrew/anaconda3/envs/code-ont/lib/python3.8/site-packages/azure/keyvault/secrets/_generated/v7_3/operations/_key_vault_client_operations.py:495\u001b[0m, in \u001b[0;36mKeyVaultClientOperationsMixin.set_secret\u001b[0;34m(self, vault_base_url, secret_name, parameters, **kwargs)\u001b[0m\n\u001b[1;32m    493\u001b[0m     map_error(status_code\u001b[39m=\u001b[39mresponse\u001b[39m.\u001b[39mstatus_code, response\u001b[39m=\u001b[39mresponse, error_map\u001b[39m=\u001b[39merror_map)\n\u001b[1;32m    494\u001b[0m     error \u001b[39m=\u001b[39m \u001b[39mself\u001b[39m\u001b[39m.\u001b[39m_deserialize\u001b[39m.\u001b[39mfailsafe_deserialize(_models\u001b[39m.\u001b[39mKeyVaultError, pipeline_response)\n\u001b[0;32m--> 495\u001b[0m     \u001b[39mraise\u001b[39;00m HttpResponseError(response\u001b[39m=\u001b[39mresponse, model\u001b[39m=\u001b[39merror)\n\u001b[1;32m    497\u001b[0m deserialized \u001b[39m=\u001b[39m \u001b[39mself\u001b[39m\u001b[39m.\u001b[39m_deserialize(\u001b[39m'\u001b[39m\u001b[39mSecretBundle\u001b[39m\u001b[39m'\u001b[39m, pipeline_response)\n\u001b[1;32m    499\u001b[0m \u001b[39mif\u001b[39;00m \u001b[39mcls\u001b[39m:\n",
      "\u001b[0;31mHttpResponseError\u001b[0m: (BadParameter) The request URI contains an invalid name: subscription_id\nCode: BadParameter\nMessage: The request URI contains an invalid name: subscription_id"
     ]
    }
   ],
   "source": [
    "secret_client.set_secret(\n",
    "    name='subscription_id',\n",
    "    value='8e155238-93f7-4377-9b62-6a2f4e51052e')"
   ]
  },
  {
   "cell_type": "code",
   "execution_count": null,
   "metadata": {},
   "outputs": [],
   "source": []
  },
  {
   "cell_type": "code",
   "execution_count": 2,
   "metadata": {},
   "outputs": [],
   "source": [
    "from datetime import datetime\n",
    "\n",
    "\n",
    "from azureml.core import Workspace\n",
    "from azure.ai.ml.entities import ComputeInstance\n",
    "\n",
    "# get a handle to the workspace\n",
    "from azure.ai.ml import MLClient\n",
    "from azure.identity import DefaultAzureCredential"
   ]
  },
  {
   "attachments": {},
   "cell_type": "markdown",
   "metadata": {},
   "source": [
    "1. Invite then\n",
    "2. Create own Compute Instance - assigned exclusively\n",
    "\n",
    "3. Access to CI notebooks\n",
    "\n",
    "4. Train with sklearn\n",
    "4. Add mlflow\n",
    "\n",
    "5. Create a managed identity -> results in an id \n",
    "6. assign azure ml data scientist role to that identity tied to your workspace \n",
    "7. create a compute instance, with an user-assigned identity type \n",
    "8. use msi authentication \n",
    "\n"
   ]
  },
  {
   "cell_type": "code",
   "execution_count": 3,
   "metadata": {},
   "outputs": [],
   "source": [
    "\n",
    "# SETTINGS\n",
    "azureml_workspace_config = {\n",
    "    \"subscription_id\": \"8e155238-93f7-4377-9b62-6a2f4e51052e\",\n",
    "    \"resource_group\": \"prashant-srivastava-sandbox\",\n",
    "    \"workspace_name\": \"azureml-code-breakfast\"\n",
    "}"
   ]
  },
  {
   "cell_type": "code",
   "execution_count": 4,
   "metadata": {},
   "outputs": [],
   "source": [
    "# Get workspace\n",
    "def get_workspace() -> Workspace:\n",
    "    \"\"\"\n",
    "    Obtain the workspace from either the current run or from the config file.\n",
    "    If you are running it locally, make sure you have downloaded the config file.\n",
    "    If you submitted the job to AzureML, this function will obtain the workspace from the current run.\n",
    "\n",
    "    An exception will be raised if the workspace cannot be obtained by either method.\n",
    "\n",
    "    :return: The AzureML workspace.\n",
    "    \"\"\"\n",
    "\n",
    "    try:\n",
    "        return Workspace.from_config()\n",
    "    except:\n",
    "        return \"Workspace config error.\"\n"
   ]
  },
  {
   "cell_type": "code",
   "execution_count": 5,
   "metadata": {},
   "outputs": [],
   "source": [
    "# Create ML client\n",
    "def create_azureml_client(\n",
    "    subscription_id, resource_group, workspace_name, credential=DefaultAzureCredential()\n",
    "):\n",
    "    ml_client = MLClient(credential, subscription_id, resource_group, workspace_name)\n",
    "    return ml_client\n"
   ]
  },
  {
   "cell_type": "code",
   "execution_count": 6,
   "metadata": {},
   "outputs": [],
   "source": [
    "# Create a compoute instance\n",
    "def create_compute_instance(\n",
    "    ml_client: MLClient,\n",
    "    name: str = f\"\"\"Training-{datetime.now().strftime(\"%m/%d/%Y,%H:%M:%S\")}\"\"\",\n",
    "    size: str = \"Standard_DS1_v2\",\n",
    "    location: str = 'westeurope',\n",
    "\n",
    "):\n",
    "        \n",
    "    ci = ComputeInstance(\n",
    "        name=name, \n",
    "        size=size,\n",
    "    )\n",
    "        \n",
    "    return ml_client.begin_create_or_update(ci).result()    \n"
   ]
  },
  {
   "cell_type": "code",
   "execution_count": 7,
   "metadata": {},
   "outputs": [],
   "source": [
    "mlc = create_azureml_client(subscription_id = azureml_workspace_config[\"subscription_id\"],\n",
    "resource_group=azureml_workspace_config[\"resource_group\"],\n",
    "workspace_name=azureml_workspace_config[\"workspace_name\"])"
   ]
  },
  {
   "cell_type": "code",
   "execution_count": 8,
   "metadata": {},
   "outputs": [
    {
     "data": {
      "text/plain": [
       "MLClient(credential=<azure.identity._credentials.default.DefaultAzureCredential object at 0x10e6bf550>,\n",
       "         subscription_id=8e155238-93f7-4377-9b62-6a2f4e51052e,\n",
       "         resource_group_name=prashant-srivastava-sandbox,\n",
       "         workspace_name=azureml-code-breakfast)"
      ]
     },
     "execution_count": 8,
     "metadata": {},
     "output_type": "execute_result"
    }
   ],
   "source": [
    "mlc"
   ]
  },
  {
   "cell_type": "code",
   "execution_count": 10,
   "metadata": {},
   "outputs": [],
   "source": [
    "ci_name = 'azureml-ce'"
   ]
  },
  {
   "cell_type": "code",
   "execution_count": 11,
   "metadata": {},
   "outputs": [],
   "source": [
    "ci = ComputeInstance(name=ci_name)"
   ]
  },
  {
   "cell_type": "code",
   "execution_count": 12,
   "metadata": {},
   "outputs": [
    {
     "data": {
      "text/plain": [
       "ComputeInstance({'state': None, 'last_operation': None, 'os_image_metadata': None, 'services': None, 'type': 'computeinstance', 'created_on': None, 'provisioning_state': None, 'provisioning_errors': None, 'name': 'azureml-ce', 'description': None, 'tags': {}, 'properties': {}, 'print_as_yaml': True, 'id': None, 'Resource__source_path': None, 'base_path': '/Users/prashant/Documents/Codebase/internal/azureml_experiment_tracking_tutorial', 'creation_context': None, 'serialize': <msrest.serialization.Serializer object at 0x10ad27730>, 'resource_id': None, 'location': None, 'size': None, 'ssh_public_access_enabled': None, 'create_on_behalf_of': None, 'network_settings': None, 'ssh_settings': None, 'schedules': None, 'identity': None, 'idle_time_before_shutdown': None, 'idle_time_before_shutdown_minutes': None, 'setup_scripts': None, 'enable_node_public_ip': True, 'custom_applications': None, 'subnet': None})"
      ]
     },
     "execution_count": 12,
     "metadata": {},
     "output_type": "execute_result"
    }
   ],
   "source": [
    "ci"
   ]
  },
  {
   "cell_type": "code",
   "execution_count": null,
   "metadata": {},
   "outputs": [],
   "source": [
    "from azure.identity import ManagedIdentityCredential"
   ]
  }
 ],
 "metadata": {
  "kernelspec": {
   "display_name": "code-ont",
   "language": "python",
   "name": "python3"
  },
  "language_info": {
   "codemirror_mode": {
    "name": "ipython",
    "version": 3
   },
   "file_extension": ".py",
   "mimetype": "text/x-python",
   "name": "python",
   "nbconvert_exporter": "python",
   "pygments_lexer": "ipython3",
   "version": "3.8.16"
  },
  "orig_nbformat": 4,
  "vscode": {
   "interpreter": {
    "hash": "3c54ad65707ef7d43a84ed93777f96f49399a61e6aa29f567d32d6a9c442faf8"
   }
  }
 },
 "nbformat": 4,
 "nbformat_minor": 2
}
