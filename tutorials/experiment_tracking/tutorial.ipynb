{
 "cells": [
  {
   "attachments": {},
   "cell_type": "markdown",
   "metadata": {},
   "source": [
    "### STEPS:\n",
    "\n",
    "1. Accept the invite and setup your acount.\n",
    "2. Go to ml.azure.com\n",
    "3. Select 'azureml-code-breakfast' workspace. \n",
    "4. Navigate to Compute section and open JupyterLab.\n",
    "3. Open Terminal in JupyterLab.\n",
    "4. Navigate to your folder e.g. \"cd Users/<YOUR_USER_NAME>\"\n",
    "5. Clone the git repository:\n",
    "```bash\n",
    "git clone https://github.com/godatadriven/azureml_experiment_tracking_tutorial.git\n",
    "```\n",
    "\n",
    "6. Navigate to project home folder.\n",
    "7. Install new environment and register the kernal\n",
    "```bash\n",
    "conda create -n <YOUR_ENV_NAME> python=3.8\n",
    "conda activate <YOUR_ENV_NAME>\n",
    "pip install poetry\n",
    "poetry install\n",
    "python -m ipykernel install --user --name <YOUR_ENV_NAME> --display-name \"YOUR_ENV_NAME\"\n",
    "```\n",
    "\n",
    "8. Check whether your kernel exists or not\n",
    "```bash\n",
    "jupyter kernelspec list\n",
    "```\n",
    "You should see your <YOUR_ENV_NAME> here.\n",
    "\n",
    "9. "
   ]
  },
  {
   "cell_type": "code",
   "execution_count": 2,
   "metadata": {},
   "outputs": [],
   "source": [
    "from datetime import datetime\n",
    "\n",
    "\n",
    "from azureml.core import Workspace\n",
    "from azure.ai.ml.entities import ComputeInstance\n",
    "\n",
    "# get a handle to the workspace\n",
    "from azure.ai.ml import MLClient\n",
    "from azure.identity import DefaultAzureCredential"
   ]
  },
  {
   "attachments": {},
   "cell_type": "markdown",
   "metadata": {},
   "source": [
    "1. Invite then\n",
    "2. Create own Compute Instance - assigned exclusively\n",
    "\n",
    "3. Access to CI notebooks\n",
    "\n",
    "4. Train with sklearn\n",
    "4. Add mlflow\n",
    "\n",
    "5. Create a managed identity -> results in an id \n",
    "6. assign azure ml data scientist role to that identity tied to your workspace \n",
    "7. create a compute instance, with an user-assigned identity type \n",
    "8. use msi authentication \n",
    "\n"
   ]
  },
  {
   "cell_type": "code",
   "execution_count": 3,
   "metadata": {},
   "outputs": [],
   "source": [
    "\n",
    "# SETTINGS\n",
    "azureml_workspace_config = {\n",
    "    \"subscription_id\": \"8e155238-93f7-4377-9b62-6a2f4e51052e\",\n",
    "    \"resource_group\": \"prashant-srivastava-sandbox\",\n",
    "    \"workspace_name\": \"azureml-code-breakfast\"\n",
    "}"
   ]
  },
  {
   "cell_type": "code",
   "execution_count": 4,
   "metadata": {},
   "outputs": [],
   "source": [
    "# Get workspace\n",
    "def get_workspace() -> Workspace:\n",
    "    \"\"\"\n",
    "    Obtain the workspace from either the current run or from the config file.\n",
    "    If you are running it locally, make sure you have downloaded the config file.\n",
    "    If you submitted the job to AzureML, this function will obtain the workspace from the current run.\n",
    "\n",
    "    An exception will be raised if the workspace cannot be obtained by either method.\n",
    "\n",
    "    :return: The AzureML workspace.\n",
    "    \"\"\"\n",
    "\n",
    "    try:\n",
    "        return Workspace.from_config()\n",
    "    except:\n",
    "        return \"Workspace config error.\"\n"
   ]
  },
  {
   "cell_type": "code",
   "execution_count": 5,
   "metadata": {},
   "outputs": [],
   "source": [
    "# Create ML client\n",
    "def create_azureml_client(\n",
    "    subscription_id, resource_group, workspace_name, credential=DefaultAzureCredential()\n",
    "):\n",
    "    ml_client = MLClient(credential, subscription_id, resource_group, workspace_name)\n",
    "    return ml_client\n"
   ]
  },
  {
   "cell_type": "code",
   "execution_count": 6,
   "metadata": {},
   "outputs": [],
   "source": [
    "# Create a compoute instance\n",
    "def create_compute_instance(\n",
    "    ml_client: MLClient,\n",
    "    name: str = f\"\"\"Training-{datetime.now().strftime(\"%m/%d/%Y,%H:%M:%S\")}\"\"\",\n",
    "    size: str = \"Standard_DS1_v2\",\n",
    "    location: str = 'westeurope',\n",
    "\n",
    "):\n",
    "        \n",
    "    ci = ComputeInstance(\n",
    "        name=name, \n",
    "        size=size,\n",
    "    )\n",
    "        \n",
    "    return ml_client.begin_create_or_update(ci).result()    \n"
   ]
  },
  {
   "cell_type": "code",
   "execution_count": 7,
   "metadata": {},
   "outputs": [],
   "source": [
    "mlc = create_azureml_client(subscription_id = azureml_workspace_config[\"subscription_id\"],\n",
    "resource_group=azureml_workspace_config[\"resource_group\"],\n",
    "workspace_name=azureml_workspace_config[\"workspace_name\"])"
   ]
  },
  {
   "cell_type": "code",
   "execution_count": 8,
   "metadata": {},
   "outputs": [
    {
     "data": {
      "text/plain": [
       "MLClient(credential=<azure.identity._credentials.default.DefaultAzureCredential object at 0x10e6bf550>,\n",
       "         subscription_id=8e155238-93f7-4377-9b62-6a2f4e51052e,\n",
       "         resource_group_name=prashant-srivastava-sandbox,\n",
       "         workspace_name=azureml-code-breakfast)"
      ]
     },
     "execution_count": 8,
     "metadata": {},
     "output_type": "execute_result"
    }
   ],
   "source": [
    "mlc"
   ]
  },
  {
   "cell_type": "code",
   "execution_count": 10,
   "metadata": {},
   "outputs": [],
   "source": [
    "ci_name = 'azureml-ce'"
   ]
  },
  {
   "cell_type": "code",
   "execution_count": 11,
   "metadata": {},
   "outputs": [],
   "source": [
    "ci = ComputeInstance(name=ci_name)"
   ]
  },
  {
   "cell_type": "code",
   "execution_count": 12,
   "metadata": {},
   "outputs": [
    {
     "data": {
      "text/plain": [
       "ComputeInstance({'state': None, 'last_operation': None, 'os_image_metadata': None, 'services': None, 'type': 'computeinstance', 'created_on': None, 'provisioning_state': None, 'provisioning_errors': None, 'name': 'azureml-ce', 'description': None, 'tags': {}, 'properties': {}, 'print_as_yaml': True, 'id': None, 'Resource__source_path': None, 'base_path': '/Users/prashant/Documents/Codebase/internal/azureml_experiment_tracking_tutorial', 'creation_context': None, 'serialize': <msrest.serialization.Serializer object at 0x10ad27730>, 'resource_id': None, 'location': None, 'size': None, 'ssh_public_access_enabled': None, 'create_on_behalf_of': None, 'network_settings': None, 'ssh_settings': None, 'schedules': None, 'identity': None, 'idle_time_before_shutdown': None, 'idle_time_before_shutdown_minutes': None, 'setup_scripts': None, 'enable_node_public_ip': True, 'custom_applications': None, 'subnet': None})"
      ]
     },
     "execution_count": 12,
     "metadata": {},
     "output_type": "execute_result"
    }
   ],
   "source": [
    "ci"
   ]
  },
  {
   "cell_type": "code",
   "execution_count": null,
   "metadata": {},
   "outputs": [],
   "source": [
    "from azure.identity import ManagedIdentityCredential"
   ]
  }
 ],
 "metadata": {
  "kernelspec": {
   "display_name": "azureml-tutorial",
   "language": "python",
   "name": "python3"
  },
  "language_info": {
   "codemirror_mode": {
    "name": "ipython",
    "version": 3
   },
   "file_extension": ".py",
   "mimetype": "text/x-python",
   "name": "python",
   "nbconvert_exporter": "python",
   "pygments_lexer": "ipython3",
   "version": "3.8.11"
  },
  "orig_nbformat": 4,
  "vscode": {
   "interpreter": {
    "hash": "818ca0a83798fbd16930477a9261d706c62cdb68e6752c3257a621e9b8fc2e79"
   }
  }
 },
 "nbformat": 4,
 "nbformat_minor": 2
}
